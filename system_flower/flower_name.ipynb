{
 "cells": [
  {
   "cell_type": "code",
   "execution_count": 1,
   "metadata": {},
   "outputs": [],
   "source": [
    "%load_ext autoreload\n",
    "%autoreload 2"
   ]
  },
  {
   "cell_type": "code",
   "execution_count": null,
   "metadata": {},
   "outputs": [
    {
     "name": "stderr",
     "output_type": "stream",
     "text": [
      "Bottle v0.12.13 server starting up (using WSGIRefServer())...\n",
      "Listening on http://localhost:8080/\n",
      "Hit Ctrl-C to quit.\n",
      "\n",
      "/Users/takuya/anaconda3/lib/python3.6/site-packages/bottle.py:3468: DeprecationWarning: Flags not at the start of the expression \"((?m)[urbURB]?(?:''(\" (truncated)\n",
      "  patterns = [re.compile(p%pattern_vars) for p in patterns]\n",
      "/Users/takuya/anaconda3/lib/python3.6/site-packages/bottle.py:3468: DeprecationWarning: Flags not at the start of the expression '\\\\{\\\\{((?:((?m)[urbURB' (truncated)\n",
      "  patterns = [re.compile(p%pattern_vars) for p in patterns]\n",
      "127.0.0.1 - - [30/May/2019 15:50:20] \"GET / HTTP/1.1\" 200 1071\n",
      "127.0.0.1 - - [30/May/2019 15:50:20] \"GET /static/main.css HTTP/1.1\" 200 1073\n",
      "127.0.0.1 - - [30/May/2019 15:50:20] \"GET /static/image/home.jpg HTTP/1.1\" 200 2493652\n",
      "127.0.0.1 - - [30/May/2019 15:50:20] \"GET /favicon.ico HTTP/1.1\" 404 742\n",
      "127.0.0.1 - - [30/May/2019 15:50:38] \"GET /all.tpl HTTP/1.1\" 200 2522\n",
      "127.0.0.1 - - [30/May/2019 15:50:44] \"GET /flower/1 HTTP/1.1\" 200 718\n",
      "127.0.0.1 - - [30/May/2019 15:50:44] \"GET /static/style.css HTTP/1.1\" 200 486\n",
      "127.0.0.1 - - [30/May/2019 15:50:44] \"GET /static/image/1.jpg HTTP/1.1\" 200 1296034\n",
      "127.0.0.1 - - [30/May/2019 15:54:06] \"GET /here.tpl HTTP/1.1\" 200 1003\n",
      "127.0.0.1 - - [30/May/2019 15:54:33] \"GET /course.tpl HTTP/1.1\" 200 3110\n"
     ]
    }
   ],
   "source": [
    "import models\n",
    "import db\n",
    "from bottle import get, post, request\n",
    "from bottle import template, static_file\n",
    "from bottle import run\n",
    "\n",
    "@get('/static/<file_path:path>')\n",
    "def static(file_path):\n",
    "    return static_file(file_path, root='./views/static')\n",
    "\n",
    "@get('/')\n",
    "@get('/index.tpl')\n",
    "def index():\n",
    "    return template('index')\n",
    "@get('/course.tpl')\n",
    "def course():\n",
    "    q = request.params.q\n",
    "    dao = db.FlowerDAO()\n",
    "    flowers = dao.get_flowers_by_name(q)\n",
    "    return template('course', flowers=flowers)\n",
    "@get('/here.tpl')\n",
    "def here():\n",
    "    return template('here')\n",
    "@get('/all.tpl')\n",
    "def all():\n",
    "    q = request.params.q\n",
    "    dao = db.FlowerDAO()\n",
    "    flowers = dao.get_flowers_by_name(q)\n",
    "    return template('all', flowers=flowers)\n",
    "@get('/search')\n",
    "def search():\n",
    "    q = request.params.q\n",
    "    dao = db.FlowerDAO()\n",
    "    flowers = dao.get_flowers_by_name(q)\n",
    "    return template('list', flowers=flowers)\n",
    "\n",
    "@get('/flower/<id>')\n",
    "def get_flower(id):\n",
    "    dao = db.FlowerDAO()\n",
    "    flower = dao.get_flower(id)\n",
    "    return template('material', flower=flower)\n",
    "\n",
    "run(host='localhost', port=8080, debug=True)\n"
   ]
  },
  {
   "cell_type": "code",
   "execution_count": null,
   "metadata": {},
   "outputs": [],
   "source": []
  }
 ],
 "metadata": {
  "kernelspec": {
   "display_name": "Python 3",
   "language": "python",
   "name": "python3"
  },
  "language_info": {
   "codemirror_mode": {
    "name": "ipython",
    "version": 3
   },
   "file_extension": ".py",
   "mimetype": "text/x-python",
   "name": "python",
   "nbconvert_exporter": "python",
   "pygments_lexer": "ipython3",
   "version": "3.6.5"
  }
 },
 "nbformat": 4,
 "nbformat_minor": 2
}
